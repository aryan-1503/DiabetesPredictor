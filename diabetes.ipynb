{
 "cells": [
  {
   "cell_type": "code",
   "execution_count": 2,
   "id": "initial_id",
   "metadata": {
    "ExecuteTime": {
     "end_time": "2023-10-12T04:35:26.956164100Z",
     "start_time": "2023-10-12T04:35:24.796502400Z"
    }
   },
   "outputs": [],
   "source": [
    "import pandas as pd\n",
    "import numpy as np\n",
    "import matplotlib.pyplot as plt\n"
   ]
  },
  {
   "cell_type": "code",
   "execution_count": 3,
   "id": "32ebc3a6037bb6df",
   "metadata": {
    "ExecuteTime": {
     "end_time": "2023-10-12T04:35:27.030709200Z",
     "start_time": "2023-10-12T04:35:26.961555900Z"
    }
   },
   "outputs": [
    {
     "data": {
      "text/plain": "   Pregnancies  Glucose  BloodPressure  SkinThickness  Insulin   BMI  \\\n0            2      138             62             35        0  33.6   \n1            0       84             82             31      125  38.2   \n2            0      145              0              0        0  44.2   \n3            0      135             68             42      250  42.3   \n4            1      139             62             41      480  40.7   \n\n   DiabetesPedigreeFunction  Age  Outcome  \n0                     0.127   47        1  \n1                     0.233   23        0  \n2                     0.630   31        1  \n3                     0.365   24        1  \n4                     0.536   21        0  ",
      "text/html": "<div>\n<style scoped>\n    .dataframe tbody tr th:only-of-type {\n        vertical-align: middle;\n    }\n\n    .dataframe tbody tr th {\n        vertical-align: top;\n    }\n\n    .dataframe thead th {\n        text-align: right;\n    }\n</style>\n<table border=\"1\" class=\"dataframe\">\n  <thead>\n    <tr style=\"text-align: right;\">\n      <th></th>\n      <th>Pregnancies</th>\n      <th>Glucose</th>\n      <th>BloodPressure</th>\n      <th>SkinThickness</th>\n      <th>Insulin</th>\n      <th>BMI</th>\n      <th>DiabetesPedigreeFunction</th>\n      <th>Age</th>\n      <th>Outcome</th>\n    </tr>\n  </thead>\n  <tbody>\n    <tr>\n      <th>0</th>\n      <td>2</td>\n      <td>138</td>\n      <td>62</td>\n      <td>35</td>\n      <td>0</td>\n      <td>33.6</td>\n      <td>0.127</td>\n      <td>47</td>\n      <td>1</td>\n    </tr>\n    <tr>\n      <th>1</th>\n      <td>0</td>\n      <td>84</td>\n      <td>82</td>\n      <td>31</td>\n      <td>125</td>\n      <td>38.2</td>\n      <td>0.233</td>\n      <td>23</td>\n      <td>0</td>\n    </tr>\n    <tr>\n      <th>2</th>\n      <td>0</td>\n      <td>145</td>\n      <td>0</td>\n      <td>0</td>\n      <td>0</td>\n      <td>44.2</td>\n      <td>0.630</td>\n      <td>31</td>\n      <td>1</td>\n    </tr>\n    <tr>\n      <th>3</th>\n      <td>0</td>\n      <td>135</td>\n      <td>68</td>\n      <td>42</td>\n      <td>250</td>\n      <td>42.3</td>\n      <td>0.365</td>\n      <td>24</td>\n      <td>1</td>\n    </tr>\n    <tr>\n      <th>4</th>\n      <td>1</td>\n      <td>139</td>\n      <td>62</td>\n      <td>41</td>\n      <td>480</td>\n      <td>40.7</td>\n      <td>0.536</td>\n      <td>21</td>\n      <td>0</td>\n    </tr>\n  </tbody>\n</table>\n</div>"
     },
     "execution_count": 3,
     "metadata": {},
     "output_type": "execute_result"
    }
   ],
   "source": [
    "df = pd.read_csv('kaggle_diabetes.csv')\n",
    "df.head()"
   ]
  },
  {
   "cell_type": "code",
   "execution_count": 4,
   "id": "68224d67eee36c0f",
   "metadata": {
    "ExecuteTime": {
     "end_time": "2023-10-12T04:35:27.033306100Z",
     "start_time": "2023-10-12T04:35:27.025088900Z"
    }
   },
   "outputs": [
    {
     "data": {
      "text/plain": "(2000, 9)"
     },
     "execution_count": 4,
     "metadata": {},
     "output_type": "execute_result"
    }
   ],
   "source": [
    "df.shape"
   ]
  },
  {
   "cell_type": "code",
   "execution_count": 5,
   "id": "763913a5074c948f",
   "metadata": {
    "ExecuteTime": {
     "end_time": "2023-10-12T04:35:28.445087Z",
     "start_time": "2023-10-12T04:35:27.035866700Z"
    }
   },
   "outputs": [],
   "source": [
    "from sklearn.model_selection import train_test_split"
   ]
  },
  {
   "cell_type": "code",
   "execution_count": 6,
   "id": "6266d90a35d06e18",
   "metadata": {
    "ExecuteTime": {
     "end_time": "2023-10-12T04:35:28.460580300Z",
     "start_time": "2023-10-12T04:35:28.455241600Z"
    }
   },
   "outputs": [],
   "source": [
    "train,test = train_test_split(df,test_size=0.01)"
   ]
  },
  {
   "cell_type": "code",
   "execution_count": 7,
   "id": "b99d10e9",
   "metadata": {
    "ExecuteTime": {
     "end_time": "2023-10-12T04:35:28.497957200Z",
     "start_time": "2023-10-12T04:35:28.465511200Z"
    }
   },
   "outputs": [
    {
     "data": {
      "text/plain": "(20, 9)"
     },
     "execution_count": 7,
     "metadata": {},
     "output_type": "execute_result"
    }
   ],
   "source": [
    "test.shape"
   ]
  },
  {
   "cell_type": "code",
   "execution_count": 8,
   "id": "ac779a75",
   "metadata": {
    "ExecuteTime": {
     "end_time": "2023-10-12T04:35:28.499091200Z",
     "start_time": "2023-10-12T04:35:28.491583300Z"
    }
   },
   "outputs": [
    {
     "data": {
      "text/plain": "      Pregnancies  Glucose  BloodPressure  SkinThickness  Insulin   BMI  \\\n298            14      100             78             25      184  36.6   \n1788            2      122             76             27      200  35.9   \n1414            3      111             56             39        0  30.1   \n574             1      143             86             30      330  30.1   \n528             0      117             66             31      188  30.8   \n\n      DiabetesPedigreeFunction  Age  \n298                      0.412   46  \n1788                     0.483   26  \n1414                     0.557   30  \n574                      0.892   23  \n528                      0.493   22  ",
      "text/html": "<div>\n<style scoped>\n    .dataframe tbody tr th:only-of-type {\n        vertical-align: middle;\n    }\n\n    .dataframe tbody tr th {\n        vertical-align: top;\n    }\n\n    .dataframe thead th {\n        text-align: right;\n    }\n</style>\n<table border=\"1\" class=\"dataframe\">\n  <thead>\n    <tr style=\"text-align: right;\">\n      <th></th>\n      <th>Pregnancies</th>\n      <th>Glucose</th>\n      <th>BloodPressure</th>\n      <th>SkinThickness</th>\n      <th>Insulin</th>\n      <th>BMI</th>\n      <th>DiabetesPedigreeFunction</th>\n      <th>Age</th>\n    </tr>\n  </thead>\n  <tbody>\n    <tr>\n      <th>298</th>\n      <td>14</td>\n      <td>100</td>\n      <td>78</td>\n      <td>25</td>\n      <td>184</td>\n      <td>36.6</td>\n      <td>0.412</td>\n      <td>46</td>\n    </tr>\n    <tr>\n      <th>1788</th>\n      <td>2</td>\n      <td>122</td>\n      <td>76</td>\n      <td>27</td>\n      <td>200</td>\n      <td>35.9</td>\n      <td>0.483</td>\n      <td>26</td>\n    </tr>\n    <tr>\n      <th>1414</th>\n      <td>3</td>\n      <td>111</td>\n      <td>56</td>\n      <td>39</td>\n      <td>0</td>\n      <td>30.1</td>\n      <td>0.557</td>\n      <td>30</td>\n    </tr>\n    <tr>\n      <th>574</th>\n      <td>1</td>\n      <td>143</td>\n      <td>86</td>\n      <td>30</td>\n      <td>330</td>\n      <td>30.1</td>\n      <td>0.892</td>\n      <td>23</td>\n    </tr>\n    <tr>\n      <th>528</th>\n      <td>0</td>\n      <td>117</td>\n      <td>66</td>\n      <td>31</td>\n      <td>188</td>\n      <td>30.8</td>\n      <td>0.493</td>\n      <td>22</td>\n    </tr>\n  </tbody>\n</table>\n</div>"
     },
     "execution_count": 8,
     "metadata": {},
     "output_type": "execute_result"
    }
   ],
   "source": [
    "X_train = train.iloc[:,:8]\n",
    "y_train = train.iloc[:,-1:]\n",
    "X_train.head()"
   ]
  },
  {
   "cell_type": "code",
   "execution_count": 9,
   "id": "11577af4",
   "metadata": {
    "ExecuteTime": {
     "end_time": "2023-10-12T04:35:28.519700700Z",
     "start_time": "2023-10-12T04:35:28.500120Z"
    }
   },
   "outputs": [
    {
     "data": {
      "text/plain": "      Outcome\n298         1\n1788        0\n1414        0\n574         0\n528         0",
      "text/html": "<div>\n<style scoped>\n    .dataframe tbody tr th:only-of-type {\n        vertical-align: middle;\n    }\n\n    .dataframe tbody tr th {\n        vertical-align: top;\n    }\n\n    .dataframe thead th {\n        text-align: right;\n    }\n</style>\n<table border=\"1\" class=\"dataframe\">\n  <thead>\n    <tr style=\"text-align: right;\">\n      <th></th>\n      <th>Outcome</th>\n    </tr>\n  </thead>\n  <tbody>\n    <tr>\n      <th>298</th>\n      <td>1</td>\n    </tr>\n    <tr>\n      <th>1788</th>\n      <td>0</td>\n    </tr>\n    <tr>\n      <th>1414</th>\n      <td>0</td>\n    </tr>\n    <tr>\n      <th>574</th>\n      <td>0</td>\n    </tr>\n    <tr>\n      <th>528</th>\n      <td>0</td>\n    </tr>\n  </tbody>\n</table>\n</div>"
     },
     "execution_count": 9,
     "metadata": {},
     "output_type": "execute_result"
    }
   ],
   "source": [
    "y_train.head()"
   ]
  },
  {
   "cell_type": "code",
   "execution_count": 10,
   "id": "d0c5ca9b",
   "metadata": {
    "ExecuteTime": {
     "end_time": "2023-10-12T04:35:28.577343Z",
     "start_time": "2023-10-12T04:35:28.517080200Z"
    }
   },
   "outputs": [],
   "source": [
    "X_train_tr,X_train_te,y_train_tr,y_train_te = train_test_split(X_train,y_train,test_size=.3)"
   ]
  },
  {
   "cell_type": "code",
   "execution_count": 11,
   "id": "a219c2fb",
   "metadata": {
    "ExecuteTime": {
     "end_time": "2023-10-12T04:35:28.893383400Z",
     "start_time": "2023-10-12T04:35:28.528345500Z"
    }
   },
   "outputs": [
    {
     "data": {
      "text/plain": "RandomForestClassifier(n_estimators=20)",
      "text/html": "<style>#sk-container-id-1 {color: black;}#sk-container-id-1 pre{padding: 0;}#sk-container-id-1 div.sk-toggleable {background-color: white;}#sk-container-id-1 label.sk-toggleable__label {cursor: pointer;display: block;width: 100%;margin-bottom: 0;padding: 0.3em;box-sizing: border-box;text-align: center;}#sk-container-id-1 label.sk-toggleable__label-arrow:before {content: \"▸\";float: left;margin-right: 0.25em;color: #696969;}#sk-container-id-1 label.sk-toggleable__label-arrow:hover:before {color: black;}#sk-container-id-1 div.sk-estimator:hover label.sk-toggleable__label-arrow:before {color: black;}#sk-container-id-1 div.sk-toggleable__content {max-height: 0;max-width: 0;overflow: hidden;text-align: left;background-color: #f0f8ff;}#sk-container-id-1 div.sk-toggleable__content pre {margin: 0.2em;color: black;border-radius: 0.25em;background-color: #f0f8ff;}#sk-container-id-1 input.sk-toggleable__control:checked~div.sk-toggleable__content {max-height: 200px;max-width: 100%;overflow: auto;}#sk-container-id-1 input.sk-toggleable__control:checked~label.sk-toggleable__label-arrow:before {content: \"▾\";}#sk-container-id-1 div.sk-estimator input.sk-toggleable__control:checked~label.sk-toggleable__label {background-color: #d4ebff;}#sk-container-id-1 div.sk-label input.sk-toggleable__control:checked~label.sk-toggleable__label {background-color: #d4ebff;}#sk-container-id-1 input.sk-hidden--visually {border: 0;clip: rect(1px 1px 1px 1px);clip: rect(1px, 1px, 1px, 1px);height: 1px;margin: -1px;overflow: hidden;padding: 0;position: absolute;width: 1px;}#sk-container-id-1 div.sk-estimator {font-family: monospace;background-color: #f0f8ff;border: 1px dotted black;border-radius: 0.25em;box-sizing: border-box;margin-bottom: 0.5em;}#sk-container-id-1 div.sk-estimator:hover {background-color: #d4ebff;}#sk-container-id-1 div.sk-parallel-item::after {content: \"\";width: 100%;border-bottom: 1px solid gray;flex-grow: 1;}#sk-container-id-1 div.sk-label:hover label.sk-toggleable__label {background-color: #d4ebff;}#sk-container-id-1 div.sk-serial::before {content: \"\";position: absolute;border-left: 1px solid gray;box-sizing: border-box;top: 0;bottom: 0;left: 50%;z-index: 0;}#sk-container-id-1 div.sk-serial {display: flex;flex-direction: column;align-items: center;background-color: white;padding-right: 0.2em;padding-left: 0.2em;position: relative;}#sk-container-id-1 div.sk-item {position: relative;z-index: 1;}#sk-container-id-1 div.sk-parallel {display: flex;align-items: stretch;justify-content: center;background-color: white;position: relative;}#sk-container-id-1 div.sk-item::before, #sk-container-id-1 div.sk-parallel-item::before {content: \"\";position: absolute;border-left: 1px solid gray;box-sizing: border-box;top: 0;bottom: 0;left: 50%;z-index: -1;}#sk-container-id-1 div.sk-parallel-item {display: flex;flex-direction: column;z-index: 1;position: relative;background-color: white;}#sk-container-id-1 div.sk-parallel-item:first-child::after {align-self: flex-end;width: 50%;}#sk-container-id-1 div.sk-parallel-item:last-child::after {align-self: flex-start;width: 50%;}#sk-container-id-1 div.sk-parallel-item:only-child::after {width: 0;}#sk-container-id-1 div.sk-dashed-wrapped {border: 1px dashed gray;margin: 0 0.4em 0.5em 0.4em;box-sizing: border-box;padding-bottom: 0.4em;background-color: white;}#sk-container-id-1 div.sk-label label {font-family: monospace;font-weight: bold;display: inline-block;line-height: 1.2em;}#sk-container-id-1 div.sk-label-container {text-align: center;}#sk-container-id-1 div.sk-container {/* jupyter's `normalize.less` sets `[hidden] { display: none; }` but bootstrap.min.css set `[hidden] { display: none !important; }` so we also need the `!important` here to be able to override the default hidden behavior on the sphinx rendered scikit-learn.org. See: https://github.com/scikit-learn/scikit-learn/issues/21755 */display: inline-block !important;position: relative;}#sk-container-id-1 div.sk-text-repr-fallback {display: none;}</style><div id=\"sk-container-id-1\" class=\"sk-top-container\"><div class=\"sk-text-repr-fallback\"><pre>RandomForestClassifier(n_estimators=20)</pre><b>In a Jupyter environment, please rerun this cell to show the HTML representation or trust the notebook. <br />On GitHub, the HTML representation is unable to render, please try loading this page with nbviewer.org.</b></div><div class=\"sk-container\" hidden><div class=\"sk-item\"><div class=\"sk-estimator sk-toggleable\"><input class=\"sk-toggleable__control sk-hidden--visually\" id=\"sk-estimator-id-1\" type=\"checkbox\" checked><label for=\"sk-estimator-id-1\" class=\"sk-toggleable__label sk-toggleable__label-arrow\">RandomForestClassifier</label><div class=\"sk-toggleable__content\"><pre>RandomForestClassifier(n_estimators=20)</pre></div></div></div></div></div>"
     },
     "execution_count": 11,
     "metadata": {},
     "output_type": "execute_result"
    }
   ],
   "source": [
    "from sklearn.ensemble import RandomForestClassifier\n",
    "clf = RandomForestClassifier(n_estimators=20)\n",
    "clf.fit(X_train_tr, y_train_tr.values.ravel())\n",
    "\n"
   ]
  },
  {
   "cell_type": "code",
   "execution_count": 12,
   "id": "351cb1c9",
   "metadata": {
    "ExecuteTime": {
     "end_time": "2023-10-12T04:35:28.910233700Z",
     "start_time": "2023-10-12T04:35:28.893383400Z"
    }
   },
   "outputs": [],
   "source": [
    "y_pred = clf.predict(X_train_te)"
   ]
  },
  {
   "cell_type": "code",
   "execution_count": 13,
   "id": "16fd0d32",
   "metadata": {
    "ExecuteTime": {
     "end_time": "2023-10-12T04:35:28.937384200Z",
     "start_time": "2023-10-12T04:35:28.913861500Z"
    }
   },
   "outputs": [],
   "source": [
    "from sklearn.metrics import accuracy_score\n",
    "score = accuracy_score(y_train_te,y_pred)"
   ]
  },
  {
   "cell_type": "code",
   "execution_count": 14,
   "id": "37ed7cf0",
   "metadata": {
    "ExecuteTime": {
     "end_time": "2023-10-12T04:35:28.939421600Z",
     "start_time": "2023-10-12T04:35:28.930071Z"
    }
   },
   "outputs": [
    {
     "data": {
      "text/plain": "0.9747474747474747"
     },
     "execution_count": 14,
     "metadata": {},
     "output_type": "execute_result"
    }
   ],
   "source": [
    "score"
   ]
  },
  {
   "cell_type": "code",
   "execution_count": 15,
   "id": "548f9cd9",
   "metadata": {
    "ExecuteTime": {
     "end_time": "2023-10-12T04:35:29.040316400Z",
     "start_time": "2023-10-12T04:35:28.954929500Z"
    }
   },
   "outputs": [
    {
     "data": {
      "text/plain": "      Pregnancies  Glucose  BloodPressure  SkinThickness  Insulin   BMI  \\\n90              1       80             55              0        0  19.1   \n1761            3      123            100             35      240  57.3   \n714             3      102             74              0        0  29.5   \n147             2      106             64             35      119  30.5   \n1825            8       65             72             23        0  32.0   \n1403            9      184             85             15        0  30.0   \n228             4      197             70             39      744  36.7   \n1090            1      128             82             17      183  27.5   \n650             1       91             54             25      100  25.2   \n695             7      142             90             24      480  30.4   \n1313            7      152             88             44        0  50.0   \n924             2      100             54             28      105  37.8   \n634            10       92             62              0        0  25.9   \n936             0       74             52             10       36  27.8   \n1925            2       85             65              0        0  39.6   \n1716            5      128             80              0        0  34.6   \n1053            0       67             76              0        0  45.3   \n429             1       95             82             25      180  35.0   \n1623            3      173             82             48      465  38.4   \n1170            0      134             58             20      291  26.4   \n\n      DiabetesPedigreeFunction  Age  Outcome  \n90                       0.258   21        0  \n1761                     0.880   22        0  \n714                      0.121   32        0  \n147                      1.400   34        0  \n1825                     0.600   42        0  \n1403                     1.213   49        1  \n228                      2.329   31        0  \n1090                     0.115   22        0  \n650                      0.234   23        0  \n695                      0.128   43        1  \n1313                     0.337   36        1  \n924                      0.498   24        0  \n634                      0.167   31        0  \n936                      0.269   22        0  \n1925                     0.930   27        0  \n1716                     0.144   45        0  \n1053                     0.194   46        0  \n429                      0.233   43        1  \n1623                     2.137   25        1  \n1170                     0.352   21        0  ",
      "text/html": "<div>\n<style scoped>\n    .dataframe tbody tr th:only-of-type {\n        vertical-align: middle;\n    }\n\n    .dataframe tbody tr th {\n        vertical-align: top;\n    }\n\n    .dataframe thead th {\n        text-align: right;\n    }\n</style>\n<table border=\"1\" class=\"dataframe\">\n  <thead>\n    <tr style=\"text-align: right;\">\n      <th></th>\n      <th>Pregnancies</th>\n      <th>Glucose</th>\n      <th>BloodPressure</th>\n      <th>SkinThickness</th>\n      <th>Insulin</th>\n      <th>BMI</th>\n      <th>DiabetesPedigreeFunction</th>\n      <th>Age</th>\n      <th>Outcome</th>\n    </tr>\n  </thead>\n  <tbody>\n    <tr>\n      <th>90</th>\n      <td>1</td>\n      <td>80</td>\n      <td>55</td>\n      <td>0</td>\n      <td>0</td>\n      <td>19.1</td>\n      <td>0.258</td>\n      <td>21</td>\n      <td>0</td>\n    </tr>\n    <tr>\n      <th>1761</th>\n      <td>3</td>\n      <td>123</td>\n      <td>100</td>\n      <td>35</td>\n      <td>240</td>\n      <td>57.3</td>\n      <td>0.880</td>\n      <td>22</td>\n      <td>0</td>\n    </tr>\n    <tr>\n      <th>714</th>\n      <td>3</td>\n      <td>102</td>\n      <td>74</td>\n      <td>0</td>\n      <td>0</td>\n      <td>29.5</td>\n      <td>0.121</td>\n      <td>32</td>\n      <td>0</td>\n    </tr>\n    <tr>\n      <th>147</th>\n      <td>2</td>\n      <td>106</td>\n      <td>64</td>\n      <td>35</td>\n      <td>119</td>\n      <td>30.5</td>\n      <td>1.400</td>\n      <td>34</td>\n      <td>0</td>\n    </tr>\n    <tr>\n      <th>1825</th>\n      <td>8</td>\n      <td>65</td>\n      <td>72</td>\n      <td>23</td>\n      <td>0</td>\n      <td>32.0</td>\n      <td>0.600</td>\n      <td>42</td>\n      <td>0</td>\n    </tr>\n    <tr>\n      <th>1403</th>\n      <td>9</td>\n      <td>184</td>\n      <td>85</td>\n      <td>15</td>\n      <td>0</td>\n      <td>30.0</td>\n      <td>1.213</td>\n      <td>49</td>\n      <td>1</td>\n    </tr>\n    <tr>\n      <th>228</th>\n      <td>4</td>\n      <td>197</td>\n      <td>70</td>\n      <td>39</td>\n      <td>744</td>\n      <td>36.7</td>\n      <td>2.329</td>\n      <td>31</td>\n      <td>0</td>\n    </tr>\n    <tr>\n      <th>1090</th>\n      <td>1</td>\n      <td>128</td>\n      <td>82</td>\n      <td>17</td>\n      <td>183</td>\n      <td>27.5</td>\n      <td>0.115</td>\n      <td>22</td>\n      <td>0</td>\n    </tr>\n    <tr>\n      <th>650</th>\n      <td>1</td>\n      <td>91</td>\n      <td>54</td>\n      <td>25</td>\n      <td>100</td>\n      <td>25.2</td>\n      <td>0.234</td>\n      <td>23</td>\n      <td>0</td>\n    </tr>\n    <tr>\n      <th>695</th>\n      <td>7</td>\n      <td>142</td>\n      <td>90</td>\n      <td>24</td>\n      <td>480</td>\n      <td>30.4</td>\n      <td>0.128</td>\n      <td>43</td>\n      <td>1</td>\n    </tr>\n    <tr>\n      <th>1313</th>\n      <td>7</td>\n      <td>152</td>\n      <td>88</td>\n      <td>44</td>\n      <td>0</td>\n      <td>50.0</td>\n      <td>0.337</td>\n      <td>36</td>\n      <td>1</td>\n    </tr>\n    <tr>\n      <th>924</th>\n      <td>2</td>\n      <td>100</td>\n      <td>54</td>\n      <td>28</td>\n      <td>105</td>\n      <td>37.8</td>\n      <td>0.498</td>\n      <td>24</td>\n      <td>0</td>\n    </tr>\n    <tr>\n      <th>634</th>\n      <td>10</td>\n      <td>92</td>\n      <td>62</td>\n      <td>0</td>\n      <td>0</td>\n      <td>25.9</td>\n      <td>0.167</td>\n      <td>31</td>\n      <td>0</td>\n    </tr>\n    <tr>\n      <th>936</th>\n      <td>0</td>\n      <td>74</td>\n      <td>52</td>\n      <td>10</td>\n      <td>36</td>\n      <td>27.8</td>\n      <td>0.269</td>\n      <td>22</td>\n      <td>0</td>\n    </tr>\n    <tr>\n      <th>1925</th>\n      <td>2</td>\n      <td>85</td>\n      <td>65</td>\n      <td>0</td>\n      <td>0</td>\n      <td>39.6</td>\n      <td>0.930</td>\n      <td>27</td>\n      <td>0</td>\n    </tr>\n    <tr>\n      <th>1716</th>\n      <td>5</td>\n      <td>128</td>\n      <td>80</td>\n      <td>0</td>\n      <td>0</td>\n      <td>34.6</td>\n      <td>0.144</td>\n      <td>45</td>\n      <td>0</td>\n    </tr>\n    <tr>\n      <th>1053</th>\n      <td>0</td>\n      <td>67</td>\n      <td>76</td>\n      <td>0</td>\n      <td>0</td>\n      <td>45.3</td>\n      <td>0.194</td>\n      <td>46</td>\n      <td>0</td>\n    </tr>\n    <tr>\n      <th>429</th>\n      <td>1</td>\n      <td>95</td>\n      <td>82</td>\n      <td>25</td>\n      <td>180</td>\n      <td>35.0</td>\n      <td>0.233</td>\n      <td>43</td>\n      <td>1</td>\n    </tr>\n    <tr>\n      <th>1623</th>\n      <td>3</td>\n      <td>173</td>\n      <td>82</td>\n      <td>48</td>\n      <td>465</td>\n      <td>38.4</td>\n      <td>2.137</td>\n      <td>25</td>\n      <td>1</td>\n    </tr>\n    <tr>\n      <th>1170</th>\n      <td>0</td>\n      <td>134</td>\n      <td>58</td>\n      <td>20</td>\n      <td>291</td>\n      <td>26.4</td>\n      <td>0.352</td>\n      <td>21</td>\n      <td>0</td>\n    </tr>\n  </tbody>\n</table>\n</div>"
     },
     "execution_count": 15,
     "metadata": {},
     "output_type": "execute_result"
    }
   ],
   "source": [
    "test.head(50)"
   ]
  },
  {
   "cell_type": "code",
   "execution_count": 16,
   "id": "72ba9c48",
   "metadata": {
    "ExecuteTime": {
     "end_time": "2023-10-12T04:35:29.042493200Z",
     "start_time": "2023-10-12T04:35:28.976941500Z"
    }
   },
   "outputs": [
    {
     "data": {
      "text/plain": "      Pregnancies  Glucose  BloodPressure  SkinThickness  Insulin   BMI  \\\n90              1       80             55              0        0  19.1   \n1761            3      123            100             35      240  57.3   \n714             3      102             74              0        0  29.5   \n147             2      106             64             35      119  30.5   \n1825            8       65             72             23        0  32.0   \n1403            9      184             85             15        0  30.0   \n228             4      197             70             39      744  36.7   \n1090            1      128             82             17      183  27.5   \n650             1       91             54             25      100  25.2   \n695             7      142             90             24      480  30.4   \n1313            7      152             88             44        0  50.0   \n924             2      100             54             28      105  37.8   \n634            10       92             62              0        0  25.9   \n936             0       74             52             10       36  27.8   \n1925            2       85             65              0        0  39.6   \n1716            5      128             80              0        0  34.6   \n1053            0       67             76              0        0  45.3   \n429             1       95             82             25      180  35.0   \n1623            3      173             82             48      465  38.4   \n1170            0      134             58             20      291  26.4   \n\n      DiabetesPedigreeFunction  Age  Outcome  \n90                       0.258   21        0  \n1761                     0.880   22        0  \n714                      0.121   32        0  \n147                      1.400   34        0  \n1825                     0.600   42        0  \n1403                     1.213   49        1  \n228                      2.329   31        0  \n1090                     0.115   22        0  \n650                      0.234   23        0  \n695                      0.128   43        1  \n1313                     0.337   36        1  \n924                      0.498   24        0  \n634                      0.167   31        0  \n936                      0.269   22        0  \n1925                     0.930   27        0  \n1716                     0.144   45        0  \n1053                     0.194   46        0  \n429                      0.233   43        1  \n1623                     2.137   25        1  \n1170                     0.352   21        0  ",
      "text/html": "<div>\n<style scoped>\n    .dataframe tbody tr th:only-of-type {\n        vertical-align: middle;\n    }\n\n    .dataframe tbody tr th {\n        vertical-align: top;\n    }\n\n    .dataframe thead th {\n        text-align: right;\n    }\n</style>\n<table border=\"1\" class=\"dataframe\">\n  <thead>\n    <tr style=\"text-align: right;\">\n      <th></th>\n      <th>Pregnancies</th>\n      <th>Glucose</th>\n      <th>BloodPressure</th>\n      <th>SkinThickness</th>\n      <th>Insulin</th>\n      <th>BMI</th>\n      <th>DiabetesPedigreeFunction</th>\n      <th>Age</th>\n      <th>Outcome</th>\n    </tr>\n  </thead>\n  <tbody>\n    <tr>\n      <th>90</th>\n      <td>1</td>\n      <td>80</td>\n      <td>55</td>\n      <td>0</td>\n      <td>0</td>\n      <td>19.1</td>\n      <td>0.258</td>\n      <td>21</td>\n      <td>0</td>\n    </tr>\n    <tr>\n      <th>1761</th>\n      <td>3</td>\n      <td>123</td>\n      <td>100</td>\n      <td>35</td>\n      <td>240</td>\n      <td>57.3</td>\n      <td>0.880</td>\n      <td>22</td>\n      <td>0</td>\n    </tr>\n    <tr>\n      <th>714</th>\n      <td>3</td>\n      <td>102</td>\n      <td>74</td>\n      <td>0</td>\n      <td>0</td>\n      <td>29.5</td>\n      <td>0.121</td>\n      <td>32</td>\n      <td>0</td>\n    </tr>\n    <tr>\n      <th>147</th>\n      <td>2</td>\n      <td>106</td>\n      <td>64</td>\n      <td>35</td>\n      <td>119</td>\n      <td>30.5</td>\n      <td>1.400</td>\n      <td>34</td>\n      <td>0</td>\n    </tr>\n    <tr>\n      <th>1825</th>\n      <td>8</td>\n      <td>65</td>\n      <td>72</td>\n      <td>23</td>\n      <td>0</td>\n      <td>32.0</td>\n      <td>0.600</td>\n      <td>42</td>\n      <td>0</td>\n    </tr>\n    <tr>\n      <th>1403</th>\n      <td>9</td>\n      <td>184</td>\n      <td>85</td>\n      <td>15</td>\n      <td>0</td>\n      <td>30.0</td>\n      <td>1.213</td>\n      <td>49</td>\n      <td>1</td>\n    </tr>\n    <tr>\n      <th>228</th>\n      <td>4</td>\n      <td>197</td>\n      <td>70</td>\n      <td>39</td>\n      <td>744</td>\n      <td>36.7</td>\n      <td>2.329</td>\n      <td>31</td>\n      <td>0</td>\n    </tr>\n    <tr>\n      <th>1090</th>\n      <td>1</td>\n      <td>128</td>\n      <td>82</td>\n      <td>17</td>\n      <td>183</td>\n      <td>27.5</td>\n      <td>0.115</td>\n      <td>22</td>\n      <td>0</td>\n    </tr>\n    <tr>\n      <th>650</th>\n      <td>1</td>\n      <td>91</td>\n      <td>54</td>\n      <td>25</td>\n      <td>100</td>\n      <td>25.2</td>\n      <td>0.234</td>\n      <td>23</td>\n      <td>0</td>\n    </tr>\n    <tr>\n      <th>695</th>\n      <td>7</td>\n      <td>142</td>\n      <td>90</td>\n      <td>24</td>\n      <td>480</td>\n      <td>30.4</td>\n      <td>0.128</td>\n      <td>43</td>\n      <td>1</td>\n    </tr>\n    <tr>\n      <th>1313</th>\n      <td>7</td>\n      <td>152</td>\n      <td>88</td>\n      <td>44</td>\n      <td>0</td>\n      <td>50.0</td>\n      <td>0.337</td>\n      <td>36</td>\n      <td>1</td>\n    </tr>\n    <tr>\n      <th>924</th>\n      <td>2</td>\n      <td>100</td>\n      <td>54</td>\n      <td>28</td>\n      <td>105</td>\n      <td>37.8</td>\n      <td>0.498</td>\n      <td>24</td>\n      <td>0</td>\n    </tr>\n    <tr>\n      <th>634</th>\n      <td>10</td>\n      <td>92</td>\n      <td>62</td>\n      <td>0</td>\n      <td>0</td>\n      <td>25.9</td>\n      <td>0.167</td>\n      <td>31</td>\n      <td>0</td>\n    </tr>\n    <tr>\n      <th>936</th>\n      <td>0</td>\n      <td>74</td>\n      <td>52</td>\n      <td>10</td>\n      <td>36</td>\n      <td>27.8</td>\n      <td>0.269</td>\n      <td>22</td>\n      <td>0</td>\n    </tr>\n    <tr>\n      <th>1925</th>\n      <td>2</td>\n      <td>85</td>\n      <td>65</td>\n      <td>0</td>\n      <td>0</td>\n      <td>39.6</td>\n      <td>0.930</td>\n      <td>27</td>\n      <td>0</td>\n    </tr>\n    <tr>\n      <th>1716</th>\n      <td>5</td>\n      <td>128</td>\n      <td>80</td>\n      <td>0</td>\n      <td>0</td>\n      <td>34.6</td>\n      <td>0.144</td>\n      <td>45</td>\n      <td>0</td>\n    </tr>\n    <tr>\n      <th>1053</th>\n      <td>0</td>\n      <td>67</td>\n      <td>76</td>\n      <td>0</td>\n      <td>0</td>\n      <td>45.3</td>\n      <td>0.194</td>\n      <td>46</td>\n      <td>0</td>\n    </tr>\n    <tr>\n      <th>429</th>\n      <td>1</td>\n      <td>95</td>\n      <td>82</td>\n      <td>25</td>\n      <td>180</td>\n      <td>35.0</td>\n      <td>0.233</td>\n      <td>43</td>\n      <td>1</td>\n    </tr>\n    <tr>\n      <th>1623</th>\n      <td>3</td>\n      <td>173</td>\n      <td>82</td>\n      <td>48</td>\n      <td>465</td>\n      <td>38.4</td>\n      <td>2.137</td>\n      <td>25</td>\n      <td>1</td>\n    </tr>\n    <tr>\n      <th>1170</th>\n      <td>0</td>\n      <td>134</td>\n      <td>58</td>\n      <td>20</td>\n      <td>291</td>\n      <td>26.4</td>\n      <td>0.352</td>\n      <td>21</td>\n      <td>0</td>\n    </tr>\n  </tbody>\n</table>\n</div>"
     },
     "execution_count": 16,
     "metadata": {},
     "output_type": "execute_result"
    }
   ],
   "source": [
    "test.head(50)"
   ]
  },
  {
   "cell_type": "code",
   "execution_count": 16,
   "outputs": [],
   "source": [],
   "metadata": {
    "collapsed": false,
    "ExecuteTime": {
     "end_time": "2023-10-12T04:35:29.043508500Z",
     "start_time": "2023-10-12T04:35:29.007082200Z"
    }
   },
   "id": "6bce9a9907bf086a"
  }
 ],
 "metadata": {
  "kernelspec": {
   "display_name": "Python 3 (ipykernel)",
   "language": "python",
   "name": "python3"
  },
  "language_info": {
   "codemirror_mode": {
    "name": "ipython",
    "version": 3
   },
   "file_extension": ".py",
   "mimetype": "text/x-python",
   "name": "python",
   "nbconvert_exporter": "python",
   "pygments_lexer": "ipython3",
   "version": "3.11.4"
  }
 },
 "nbformat": 4,
 "nbformat_minor": 5
}
